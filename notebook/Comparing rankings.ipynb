{
 "cells": [
  {
   "cell_type": "code",
   "execution_count": 25,
   "metadata": {},
   "outputs": [],
   "source": [
    "import polars as pl\n",
    "from pathlib import Path\n",
    "from scipy.stats import kendalltau"
   ]
  },
  {
   "cell_type": "code",
   "execution_count": 5,
   "metadata": {},
   "outputs": [
    {
     "ename": "AttributeError",
     "evalue": "'PosixPath' object has no attribute 'expand'",
     "output_type": "error",
     "traceback": [
      "\u001b[0;31m---------------------------------------------------------------------------\u001b[0m",
      "\u001b[0;31mAttributeError\u001b[0m                            Traceback (most recent call last)",
      "Cell \u001b[0;32mIn[5], line 1\u001b[0m\n\u001b[0;32m----> 1\u001b[0m root_path \u001b[38;5;241m=\u001b[39m \u001b[43mPath\u001b[49m\u001b[43m(\u001b[49m\u001b[38;5;124;43m\"\u001b[39;49m\u001b[38;5;124;43m../results/metadata/\u001b[39;49m\u001b[38;5;124;43m\"\u001b[39;49m\u001b[43m)\u001b[49m\u001b[38;5;241;43m.\u001b[39;49m\u001b[43mexpand\u001b[49m()\n",
      "\u001b[0;31mAttributeError\u001b[0m: 'PosixPath' object has no attribute 'expand'"
     ]
    }
   ],
   "source": [
    "root_path = Path(\"../results/metadata/\")"
   ]
  },
  {
   "cell_type": "code",
   "execution_count": 6,
   "metadata": {},
   "outputs": [],
   "source": [
    "path_base = Path(root_path, \"wordnet_full\")\n",
    "path_10k = Path(root_path, \"wordnet_vldb_10\")"
   ]
  },
  {
   "cell_type": "code",
   "execution_count": 21,
   "metadata": {},
   "outputs": [],
   "source": [
    "df1=pl.read_parquet(\"/home/soda/rcappuzz/work/starmie/results/metadata/wordnet_vldb_10/starmie-cl_company_employees-yadl-depleted-cont.parquet\")\n",
    "df2=pl.read_parquet(\"/home/soda/rcappuzz/work/starmie/results/metadata/wordnet_vldb_10/starmie-cl_company_employees-yadl-depleted.parquet\")\n"
   ]
  },
  {
   "cell_type": "code",
   "execution_count": 22,
   "metadata": {},
   "outputs": [],
   "source": [
    "df1=df1.with_columns(idx=pl.col(\"join_columns\").list.to_struct()).unnest(\"idx\").with_columns(idx=pl.col(\"cand_table\") + \"_\" + pl.col(\"field_0\") + \"_\" + pl.col(\"field_1\"))\n",
    "df2=df2.with_columns(idx=pl.col(\"join_columns\").list.to_struct()).unnest(\"idx\").with_columns(idx=pl.col(\"cand_table\") + \"_\" + pl.col(\"field_0\") + \"_\" + pl.col(\"field_1\"))"
   ]
  },
  {
   "cell_type": "code",
   "execution_count": 24,
   "metadata": {},
   "outputs": [],
   "source": [
    "x1 = df1[\"idx\"].to_numpy()\n",
    "x2 = df2[\"idx\"].to_numpy()"
   ]
  },
  {
   "cell_type": "code",
   "execution_count": 26,
   "metadata": {},
   "outputs": [
    {
     "data": {
      "text/plain": [
       "SignificanceResult(statistic=1.0, pvalue=0.0)"
      ]
     },
     "execution_count": 26,
     "metadata": {},
     "output_type": "execute_result"
    }
   ],
   "source": [
    "kendalltau(x1,x2)"
   ]
  },
  {
   "cell_type": "code",
   "execution_count": 62,
   "metadata": {},
   "outputs": [],
   "source": [
    "def prepare_res(path, label):\n",
    "    list_cont = []\n",
    "\n",
    "    for pth in path.iterdir():\n",
    "        if \"cont\" in  str(pth) :\n",
    "            list_cont.append(pth)\n",
    "    pairs = []\n",
    "    for _ in list_cont:\n",
    "        s = _.stem\n",
    "        s_sim = s.replace(\"-cont\", \"\")\n",
    "        pairs.append((s, s_sim))\n",
    "    res = []\n",
    "    for p in pairs:\n",
    "        _df1 = pl.read_parquet(Path(path, p[0] + \".parquet\")).head(100)\n",
    "        _df2 = pl.read_parquet(Path(path, p[1] + \".parquet\")).head(100)\n",
    "        df1=_df1.with_columns(idx=pl.col(\"join_columns\").list.to_struct()).unnest(\"idx\").with_columns(idx=pl.col(\"cand_table\") + \"_\" + pl.col(\"field_0\") + \"_\" + pl.col(\"field_1\"))\n",
    "        df2=_df2.with_columns(idx=pl.col(\"join_columns\").list.to_struct()).unnest(\"idx\").with_columns(idx=pl.col(\"cand_table\") + \"_\" + pl.col(\"field_0\") + \"_\" + pl.col(\"field_1\"))\n",
    "        x1 = df1[\"idx\"].to_numpy()\n",
    "        x2 = df2[\"idx\"].to_numpy()\n",
    "        \n",
    "        t = kendalltau(x1,x2)\n",
    "\n",
    "        res.append((p[0], t.statistic))\n",
    "\n",
    "    return pl.from_records(res).with_columns(name=pl.col(\"column_0\").str.replace(\"starmie-cl_\", \"\"), dl=pl.lit(\"yadl_\" + label)).drop(\"column_0\")    "
   ]
  },
  {
   "cell_type": "code",
   "execution_count": 63,
   "metadata": {},
   "outputs": [],
   "source": [
    "res_base = prepare_res(path_base, \"base\")\n",
    "res_10k = prepare_res(path_base, \"10k\")"
   ]
  },
  {
   "cell_type": "code",
   "execution_count": 64,
   "metadata": {},
   "outputs": [
    {
     "name": "stdout",
     "output_type": "stream",
     "text": [
      "shape: (7, 3)\n",
      "┌──────────┬───────────────────────────────────┬───────────┐\n",
      "│ column_1 ┆ name                              ┆ dl        │\n",
      "│ ---      ┆ ---                               ┆ ---       │\n",
      "│ f64      ┆ str                               ┆ str       │\n",
      "╞══════════╪═══════════════════════════════════╪═══════════╡\n",
      "│ 1.0      ┆ movies_large-yadl-depleted-cont   ┆ yadl_base │\n",
      "│ 1.0      ┆ us_accidents_2021-yadl-depleted-… ┆ yadl_base │\n",
      "│ 1.0      ┆ us_accidents_large-yadl-depleted… ┆ yadl_base │\n",
      "│ 1.0      ┆ company_employees-yadl-depleted-… ┆ yadl_base │\n",
      "│ 1.0      ┆ housing_prices-yadl-depleted-con… ┆ yadl_base │\n",
      "│ 0.307071 ┆ us_county_population-yadl-deplet… ┆ yadl_base │\n",
      "│ 1.0      ┆ us_elections-yadl-depleted-cont   ┆ yadl_base │\n",
      "└──────────┴───────────────────────────────────┴───────────┘\n",
      "shape: (7, 3)\n",
      "┌──────────┬───────────────────────────────────┬──────────┐\n",
      "│ column_1 ┆ name                              ┆ dl       │\n",
      "│ ---      ┆ ---                               ┆ ---      │\n",
      "│ f64      ┆ str                               ┆ str      │\n",
      "╞══════════╪═══════════════════════════════════╪══════════╡\n",
      "│ 1.0      ┆ movies_large-yadl-depleted-cont   ┆ yadl_10k │\n",
      "│ 1.0      ┆ us_accidents_2021-yadl-depleted-… ┆ yadl_10k │\n",
      "│ 1.0      ┆ us_accidents_large-yadl-depleted… ┆ yadl_10k │\n",
      "│ 1.0      ┆ company_employees-yadl-depleted-… ┆ yadl_10k │\n",
      "│ 1.0      ┆ housing_prices-yadl-depleted-con… ┆ yadl_10k │\n",
      "│ 0.307071 ┆ us_county_population-yadl-deplet… ┆ yadl_10k │\n",
      "│ 1.0      ┆ us_elections-yadl-depleted-cont   ┆ yadl_10k │\n",
      "└──────────┴───────────────────────────────────┴──────────┘\n"
     ]
    }
   ],
   "source": [
    "print(res_base)\n",
    "print(res_10k)"
   ]
  },
  {
   "cell_type": "code",
   "execution_count": null,
   "metadata": {},
   "outputs": [],
   "source": []
  }
 ],
 "metadata": {
  "kernelspec": {
   "display_name": "starmie",
   "language": "python",
   "name": "python3"
  },
  "language_info": {
   "codemirror_mode": {
    "name": "ipython",
    "version": 3
   },
   "file_extension": ".py",
   "mimetype": "text/x-python",
   "name": "python",
   "nbconvert_exporter": "python",
   "pygments_lexer": "ipython3",
   "version": "3.10.0"
  }
 },
 "nbformat": 4,
 "nbformat_minor": 2
}
